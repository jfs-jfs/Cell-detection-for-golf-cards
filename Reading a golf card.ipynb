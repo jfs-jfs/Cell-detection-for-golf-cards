{
 "cells": [
  {
   "cell_type": "markdown",
   "id": "7705a7b4",
   "metadata": {},
   "source": [
    "## Version, imports and hepler functions"
   ]
  },
  {
   "cell_type": "code",
   "execution_count": 1,
   "id": "a271f936",
   "metadata": {},
   "outputs": [
    {
     "name": "stdout",
     "output_type": "stream",
     "text": [
      "3.10.6 (main, Aug  2 2022, 15:11:03) [GCC 7.5.0]\n"
     ]
    }
   ],
   "source": [
    "import sys\n",
    "print(sys.version)"
   ]
  },
  {
   "cell_type": "code",
   "execution_count": 2,
   "id": "e6a68f12",
   "metadata": {},
   "outputs": [],
   "source": [
    "from skimage import io, img_as_ubyte\n",
    "from skimage.color import rgb2gray, rgba2rgb\n",
    "from skimage.feature import match_template, peak_local_max, canny, corner_peaks, corner_harris, corner_subpix\n",
    "from skimage.filters import threshold_otsu, try_all_threshold, threshold_minimum, threshold_triangle\n",
    "from skimage.transform import hough_line, hough_line_peaks, probabilistic_hough_line, rescale, resize, downscale_local_mean\n",
    "\n",
    "import matplotlib.pyplot as plt\n",
    "from matplotlib.patches import Rectangle\n",
    "\n",
    "import numpy as np"
   ]
  },
  {
   "cell_type": "code",
   "execution_count": 3,
   "id": "83f4211a",
   "metadata": {},
   "outputs": [],
   "source": [
    "def plot_img(img:np.ndarray) -> None:\n",
    "    plt.imshow(img)\n",
    "    "
   ]
  },
  {
   "cell_type": "markdown",
   "id": "e2ac6f47",
   "metadata": {},
   "source": [
    "## Load Image\n",
    "In this version we will work on the assumption that the image we recieve will always be a PNG. The only thing we have to make sure is we are working with a RGB type of image instead of a RGBa type.\n",
    "Checking the number of values the matrix retains for each pixel should do the trick, as for RGB you anly hold 3 but for RGBa you hold 4."
   ]
  },
  {
   "cell_type": "code",
   "execution_count": 4,
   "id": "559964ee",
   "metadata": {},
   "outputs": [],
   "source": [
    "def load_img(image_path:str) -> np.ndarray:\n",
    "    # Load data from file\n",
    "    img:np.ndarray = io.imread(image_path)\n",
    "    \n",
    "    if img.shape[2] == 4:\n",
    "        # RGBA => RGB\n",
    "        img = rgba2rgb(img)\n",
    "    return img"
   ]
  },
  {
   "cell_type": "code",
   "execution_count": 5,
   "id": "99c333c3",
   "metadata": {
    "scrolled": true
   },
   "outputs": [
    {
     "data": {
      "image/png": "[encoded data removed]",
      "text/plain": [
       "<Figure size 640x480 with 1 Axes>"
      ]
     },
     "metadata": {},
     "output_type": "display_data"
    }
   ],
   "source": [
    "img = load_img('bitmap1.png')\n",
    "plot_img(img)"
   ]
  },
  {
   "cell_type": "markdown",
   "id": "89957884",
   "metadata": {},
   "source": [
    "## Find the area between the red points\n",
    "I will also refer to this area as the data area as the information the player enters will be in this area."
   ]
  },
  {
   "cell_type": "markdown",
   "id": "19ace780",
   "metadata": {},
   "source": [
    "### Determinie which red point it is\n",
    "To find the center of each marker given n coordinates relatives to each marker"
   ]
  },
  {
   "cell_type": "code",
   "execution_count": 6,
   "id": "1a1c39eb",
   "metadata": {},
   "outputs": [],
   "source": [
    "def center_of_clusters(cluster_coors:np.ndarray, height:int, width:int) -> np.array:\n",
    "    mid_h = height / 2\n",
    "    mid_w = width / 2\n",
    "    \n",
    "    # We know there are 4 clusters but not how many dots in each cluster\n",
    "    # Knowing the distribution we can separate them by position given where\n",
    "    # they are in the image, topRight, topLeft, bottomRight and bottomLeft\n",
    "    clusters = [[0,0,0],[0,0,0],[0,0,0],[0,0,0]]\n",
    "    \n",
    "    # Classify coords\n",
    "    for y,x in cluster_coors:\n",
    "        if y < mid_h:\n",
    "            if x < mid_w:\n",
    "                i = 0\n",
    "            else:\n",
    "                i = 1\n",
    "        else:\n",
    "            if x < mid_w:\n",
    "                i = 2\n",
    "            else:\n",
    "                i = 3\n",
    "        clusters[i][0] += 1  # Number of points in this cluster\n",
    "        clusters[i][1] += y  # Sum of all y coords of the cluster\n",
    "        clusters[i][2] += x  # Sum of all x coords of the cluster\n",
    "        \n",
    "        #print('========')\n",
    "        #print(i)\n",
    "        #print('y:{} mid_h:{} x:{}, mid_w:{}'.format(y, mid_h, x, mid_w))\n",
    "\n",
    "\n",
    "    # Find the centers for each clusters\n",
    "    return np.array([[sum_y//total, sum_x//total] for total, sum_y, sum_x in clusters])\n",
    "    \n",
    "    \n",
    "    "
   ]
  },
  {
   "cell_type": "markdown",
   "id": "e390df79",
   "metadata": {},
   "source": [
    "### Search for the area in the image\n",
    "First look for the red in the image and try to find points relative to them. I used corner detection algorithms to ensure the result is the closests to the center of the red marks (when the mean between the points found is computed for each cluster)"
   ]
  },
  {
   "cell_type": "code",
   "execution_count": 7,
   "id": "834b1a08",
   "metadata": {},
   "outputs": [],
   "source": [
    "def search_data_area(img:np.ndarray) -> np.ndarray:\n",
    "    \n",
    "    img2 = img.copy()\n",
    "    \n",
    "    # Red markers enclouse the area\n",
    "    red = np.logical_and(img[:,:, 0] > 0.8, img[:,:,1] < 0.8)\n",
    "    not_red = np.logical_or(img[:, :, 0] < 0.8, img[:, :, 1] > 0.8)\n",
    "    \n",
    "    # Make the red markers white and everything else black\n",
    "    img[not_red] = [0., 0., 0.]\n",
    "    img[red] = [1., 1., 1.]\n",
    "    \n",
    "    img = rgb2gray(img)\n",
    "    coords = corner_peaks(corner_harris(img), min_distance=5, threshold_rel=0.4)\n",
    "    #coords_subpix = corner_subpix(img, coords, window_size=13)\n",
    "    coords = center_of_clusters(coords, img.shape[0], img.shape[1])\n",
    "    \n",
    "    #fig, ax = plt.subplots()\n",
    "    #ax.imshow(img, cmap=plt.cm.gray)\n",
    "    #ax.plot(coords[:, 1], coords[:, 0], color='cyan', marker='o', linestyle='None', markersize=6)\n",
    "    #ax.plot(coords_subpix[:, 1], coords_subpix[:, 0], '+r', markersize=15)\n",
    "    #ax.plot(coords_mine[:, 1], coords_mine[:, 0], '+g', markersize=15)\n",
    "    #plt.show()\n",
    "    \n",
    "    # Delete the red markers\n",
    "    img2[red] = [1., 1., 1.]\n",
    "    \n",
    "    # Cut the image to the area we care\n",
    "    img2 = img2[ coords[0][0] : coords[3][0], coords[0][1] : coords[3][1] ]\n",
    "    \n",
    "    return img2\n",
    "    "
   ]
  },
  {
   "cell_type": "code",
   "execution_count": 8,
   "id": "3befce11",
   "metadata": {},
   "outputs": [
    {
     "data": {
      "image/png": "[encoded data removed]",
      "text/plain": [
       "<Figure size 640x480 with 1 Axes>"
      ]
     },
     "metadata": {},
     "output_type": "display_data"
    }
   ],
   "source": [
    "area_img = search_data_area(img)\n",
    "plot_img(area_img)"
   ]
  },
  {
   "cell_type": "markdown",
   "id": "b7ac4048",
   "metadata": {},
   "source": [
    "## Search for the cells"
   ]
  },
  {
   "cell_type": "markdown",
   "id": "7d532c8e",
   "metadata": {},
   "source": [
    "Get it in high contrast to make it easier to find the lines between the cells"
   ]
  },
  {
   "cell_type": "code",
   "execution_count": 9,
   "id": "bb69319d",
   "metadata": {},
   "outputs": [],
   "source": [
    "gray_area = rgb2gray(area_img)\n",
    "t = threshold_otsu(gray_area)\n",
    "# t = threshold_triangle(area)\n",
    "# t = threshold_minimum(area)\n",
    "\n",
    "area_bw = gray_area < t\n",
    "area_wb = gray_area > t"
   ]
  },
  {
   "cell_type": "code",
   "execution_count": 10,
   "id": "0390d61d",
   "metadata": {},
   "outputs": [
    {
     "data": {
      "image/png": "[encoded data removed]",
      "text/plain": [
       "<Figure size 640x480 with 1 Axes>"
      ]
     },
     "metadata": {},
     "output_type": "display_data"
    }
   ],
   "source": [
    "plot_img(area_bw)"
   ]
  },
  {
   "cell_type": "code",
   "execution_count": 11,
   "id": "6ba8a4be",
   "metadata": {},
   "outputs": [],
   "source": [
    "def merge_lines(lines:list, threshold:int=5, vertical:bool=True) -> list:\n",
    "    new_list:list = []\n",
    "    \n",
    "    for i, line in enumerate(lines):\n",
    "        append = True\n",
    "        for other in lines[i+1:]:\n",
    "            if not append:\n",
    "                break\n",
    "\n",
    "            if vertical:\n",
    "                append = not (abs(line[0][0] - other[0][0]) < threshold)\n",
    "            else:\n",
    "                append = not (abs(line[0][1] - other[0][1]) < threshold)\n",
    "        if append:\n",
    "            new_list.append(line)\n",
    "    return new_list\n",
    "                "
   ]
  },
  {
   "cell_type": "code",
   "execution_count": 12,
   "id": "87dbacb6",
   "metadata": {},
   "outputs": [],
   "source": [
    "def grid_margins(info_area:np.ndarray):\n",
    "    lines = probabilistic_hough_line(info_area, threshold=10, line_length=150,line_gap=15)\n",
    "    \n",
    "    # Split by orientation (vertial | horizontal)\n",
    "    \n",
    "    vertical = []\n",
    "    horizontal = []\n",
    "    \n",
    "    # P starting point of the line, Q ending point of the line\n",
    "    for p, q in lines:\n",
    "        m = None # y = mx+b\n",
    "        \n",
    "        if p[0] == q[0]:\n",
    "            # Completly vertical, special case because the slope here is infinite\n",
    "            # as it results from a division by 0 if we follow the usual forumula for the slope\n",
    "            m = 900\n",
    "        elif p[1] == q[1]:\n",
    "            m = 0.0\n",
    "        else:\n",
    "            # Slope formula: m = q.y - p.y / q.x - p.x\n",
    "            #m = (q[1] - p[1]) / (q[0]-p[0])\n",
    "            pass\n",
    "            \n",
    "        # print(m)\n",
    "        if m == None:\n",
    "            continue\n",
    "        if abs(0 - m) < abs(900 - m):\n",
    "            horizontal.append((p, q))\n",
    "        else:\n",
    "            vertical.append((p, q))\n",
    "    \n",
    "    # Add limits\n",
    "    x_end = info_area.shape[1] - 1\n",
    "    y_end = info_area.shape[0] - 1\n",
    "    vertical.append( ( (0, 0), (0, y_end) ) )\n",
    "    vertical.append( ( (x_end, 0), (x_end, y_end) ) )\n",
    "    horizontal.append( ( (0, 0), (x_end, 0) ) )\n",
    "    horizontal.append( ( (0, y_end), (x_end, y_end) ) )\n",
    "    \n",
    "    # Merge lines that are too close\n",
    "    vertical = merge_lines(vertical, threshold=5, vertical=True)\n",
    "    horizontal = merge_lines(horizontal, threshold=5, vertical=False)\n",
    "    \n",
    "    # Sort them\n",
    "    vertical.sort(key=lambda tup: tup[0][0])\n",
    "    horizontal.sort(key=lambda tup: tup[0][1])\n",
    "    \n",
    "    # Make them start at the start and end at the end\n",
    "    vertical = [((p[0], info_area.shape[0]-1), (q[0], 0)) for p,q in vertical]\n",
    "    horizontal = [((info_area.shape[1]-1, p[1]), (0, q[1])) for p,q in horizontal]\n",
    "    \n",
    "    return vertical, horizontal\n",
    "        \n",
    "    "
   ]
  },
  {
   "cell_type": "code",
   "execution_count": 13,
   "id": "7d198fc3",
   "metadata": {},
   "outputs": [
    {
     "data": {
      "image/png": "[encoded data removed]",
      "text/plain": [
       "<Figure size 640x480 with 1 Axes>"
      ]
     },
     "metadata": {},
     "output_type": "display_data"
    }
   ],
   "source": [
    "vertical, horizontal = grid_margins(area_bw)\n",
    "grid = vertical + horizontal\n",
    "\n",
    "fig, axes = plt.subplots()\n",
    "axes.imshow(area_wb, cmap='gray')\n",
    "for line in grid:\n",
    "    p, q = line\n",
    "    axes.plot((p[0],q[0]),(p[1], q[1]))\n",
    "plt.show()"
   ]
  },
  {
   "cell_type": "code",
   "execution_count": 14,
   "id": "8a43970d",
   "metadata": {},
   "outputs": [
    {
     "name": "stdout",
     "output_type": "stream",
     "text": [
      "[((717, 0), (0, 0)), ((717, 40), (0, 40)), ((717, 77), (0, 77)), ((717, 115), (0, 115)), ((717, 152), (0, 152))]\n",
      "5\n"
     ]
    }
   ],
   "source": [
    "#horizontal.sort(key=lambda tup: tup[0][1])\n",
    "print(horizontal)\n",
    "print(len(horizontal))\n"
   ]
  },
  {
   "cell_type": "code",
   "execution_count": 15,
   "id": "76f90bff",
   "metadata": {},
   "outputs": [],
   "source": [
    "def cell_coords(vertical:list, horizontal:list, shape:tuple) -> np.ndarray:\n",
    "    top = shape[0]\n",
    "    end = shape[1]\n",
    "    \n",
    "    # Get vertical cutting points on horizontal aixis\n",
    "    where2cutV = [p[0] for p,_ in vertical]\n",
    "    \n",
    "    # Assure start and end are included\n",
    "    if not 0 in where2cutV:\n",
    "        where2cutV = [0] + where2cutV\n",
    "    if not shape[1]-1 in where2cutV:\n",
    "        where2cutV = where2cutV + [shape[1] - 1]\n",
    "    # print(where2cutV)\n",
    "    \n",
    "    # Ger horizontal cutting points\n",
    "    where2cutH = [p[1] for p,_ in horizontal]\n",
    "    \n",
    "    # Assure start and end are included\n",
    "    if not 0 in where2cutH:\n",
    "        where2cutH = [0] + where2cutH\n",
    "    if not shape[0]-1 in where2cutH:\n",
    "        where2cutH = where2cutH + [shape[0] - 1]\n",
    "    # print(where2cutH)\n",
    "    \n",
    "    # Generate the points\n",
    "    points = [(x, y) for y in where2cutH for x in where2cutV]\n",
    "    # print(points)      \n",
    "    \n",
    "    # Get the points in rows\n",
    "    rows = []\n",
    "    lvl = None\n",
    "    prev_lvl = None\n",
    "    i = -1\n",
    "    for p in points:\n",
    "        \n",
    "        lvl = p[1]\n",
    "        if prev_lvl != lvl:\n",
    "            i += 1\n",
    "            rows.append([])\n",
    "            prev_lvl = lvl\n",
    "        rows[i].append(p)\n",
    "    \n",
    "    # [print(z) for z in rows]\n",
    "\n",
    "    # Generate the grid\n",
    "    return np.array(rows)\n",
    "    "
   ]
  },
  {
   "cell_type": "code",
   "execution_count": 16,
   "id": "c999ff15",
   "metadata": {
    "scrolled": true
   },
   "outputs": [],
   "source": [
    "grid = cell_coords(vertical,horizontal, area_bw.shape)\n",
    "# print(grid.shape)\n",
    "# print(grid)"
   ]
  },
  {
   "cell_type": "code",
   "execution_count": 17,
   "id": "1ca034c0",
   "metadata": {},
   "outputs": [],
   "source": [
    "def coor2grid(grid, x, y) -> np.ndarray:\n",
    "    # x = row | y = col\n",
    "    return np.array([\n",
    "        [grid[x][y]],[grid[x][y+1]],\n",
    "        [grid[x+1][y]],[grid[x+1][y+1]]\n",
    "    ])"
   ]
  },
  {
   "cell_type": "code",
   "execution_count": 18,
   "id": "e3230279",
   "metadata": {},
   "outputs": [
    {
     "name": "stdout",
     "output_type": "stream",
     "text": [
      "Row to select: 0\n",
      "Col to select: 0\n",
      "[[[ 0  0]]\n",
      "\n",
      " [[38  0]]\n",
      "\n",
      " [[ 0 40]]\n",
      "\n",
      " [[38 40]]]\n"
     ]
    },
    {
     "data": {
      "image/png": "[encoded data removed]",
      "text/plain": [
       "<Figure size 640x480 with 1 Axes>"
      ]
     },
     "metadata": {},
     "output_type": "display_data"
    }
   ],
   "source": [
    "x = int(input('Row to select: '))\n",
    "y = int(input('Col to select: '))\n",
    "cell = coor2grid(grid, x, y)\n",
    "# print(cell[0].shape)\n",
    "print(cell)\n",
    "fig, axes = plt.subplots()\n",
    "axes.imshow(area_img)\n",
    "axes.add_patch(Rectangle(\n",
    "    cell[0, 0],                  # Starting point\n",
    "    cell[3,0,1] - cell[0,0,1],   # Width\n",
    "    cell[3,0,0] - cell[0,0,0]    # Height\n",
    "))\n",
    "plt.show()\n"
   ]
  },
  {
   "cell_type": "code",
   "execution_count": 21,
   "id": "bded1d85",
   "metadata": {},
   "outputs": [],
   "source": [
    "def cut_cell(area:np.ndarray, cell:np.ndarray) -> np.ndarray:\n",
    "    return area[ cell[0,0,0]+3:cell[1,0,0]-3, cell[0,0,1]+3:cell[3,0,1]-3]\n",
    "    "
   ]
  },
  {
   "cell_type": "code",
   "execution_count": 22,
   "id": "ef539c3a",
   "metadata": {},
   "outputs": [
    {
     "data": {
      "image/png": "[encoded data removed]",
      "text/plain": [
       "<Figure size 640x480 with 1 Axes>"
      ]
     },
     "metadata": {},
     "output_type": "display_data"
    }
   ],
   "source": [
    "cell_a = cut_cell(area_img, cell)\n",
    "\n",
    "plot_img(cell_a)"
   ]
  },
  {
   "cell_type": "code",
   "execution_count": null,
   "id": "5a5a2718",
   "metadata": {},
   "outputs": [],
   "source": []
  }
 ],
 "metadata": {
  "kernelspec": {
   "display_name": "Python 3",
   "language": "python",
   "name": "python3"
  },
  "language_info": {
   "codemirror_mode": {
    "name": "ipython",
    "version": 3
   },
   "file_extension": ".py",
   "mimetype": "text/x-python",
   "name": "python",
   "nbconvert_exporter": "python",
   "pygments_lexer": "ipython3",
   "version": "3.10.6"
  }
 },
 "nbformat": 4,
 "nbformat_minor": 5
}
